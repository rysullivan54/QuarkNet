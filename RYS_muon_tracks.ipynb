{
  "cells": [
    {
      "cell_type": "markdown",
      "metadata": {
        "id": "view-in-github",
        "colab_type": "text"
      },
      "source": [
        "<a href=\"https://colab.research.google.com/github/rysullivan54/QuarkNet/blob/main/RYS_muon_tracks.ipynb\" target=\"_parent\"><img src=\"https://colab.research.google.com/assets/colab-badge.svg\" alt=\"Open In Colab\"/></a>"
      ]
    },
    {
      "cell_type": "markdown",
      "id": "5c0048fb",
      "metadata": {
        "id": "5c0048fb"
      },
      "source": [
        "# Muon Tracks in CMS  \n",
        "\n",
        "Write code to expand the pseudocode below into an investigation of [muon track data](https://github.com/QuarkNet-HEP/coding-camp/tree/main/data) in the CMS detector using [Holmes' model-fitting technique](https://docs.google.com/document/d/1VP2fAFiVm1FqjqD4D-jRctjdIrMiSmBWAYw_cqBhxV0/edit?usp=sharing) and the [PPDAC](https://docs.google.com/document/d/1ei4PwZsl9aN9HnxFz7CxEtViHXxPwyd0OAogSLCrm8U/edit?usp=sharing) framework."
      ]
    },
    {
      "cell_type": "markdown",
      "id": "a439d697",
      "metadata": {
        "id": "a439d697"
      },
      "source": [
        "## Pseudocode"
      ]
    },
    {
      "cell_type": "markdown",
      "source": [
        "# fit a linear model to a set of muon tracks in CMS"
      ],
      "metadata": {
        "id": "5KGjEkCJPlHT"
      },
      "id": "5KGjEkCJPlHT"
    },
    {
      "cell_type": "markdown",
      "source": [
        "The columns in the CMS data files are:\n",
        "\n",
        "- E: energy, in GeV\n",
        "- px, py, pz: cartesian components of momentum, in GeV/c\n",
        "- pt: tranverse momentum (in the x-y plane, perpendicular to the beam pipe), in GeV/c\n",
        "- phi: polar coordinate of the initial trajectory in the transverse plane, in radians\n",
        "- eta: a function of the initial trajectory's angle with respect to the beam pipe (like theta), called pseudorapidity. Eta is a function of theta where eta = 0 is the transverseplane and eta = +/- infinity at the beam pipe\n",
        "- Q: charge, in units of fundamental charge, e\n",
        "- E1, px2, etc: properties of one of multiple particles detected\n",
        "- MET: the event's missing transverse energy (in single lepton datasets), in GeV"
      ],
      "metadata": {
        "id": "FyRg5Yujjpn_"
      },
      "id": "FyRg5Yujjpn_"
    },
    {
      "cell_type": "code",
      "source": [
        "# Input function libraries\n",
        "import pandas as pd\n",
        "import numpy as np\n",
        "from numpy.random import default_rng\n",
        "from sklearn.linear_model import LinearRegression\n",
        "import matplotlib as mpl\n",
        "import matplotlib.pyplot as plt\n",
        "from scipy.optimize import curve_fit"
      ],
      "metadata": {
        "id": "Eogz43PEmlHp"
      },
      "execution_count": 1,
      "outputs": [],
      "id": "Eogz43PEmlHp"
    },
    {
      "cell_type": "code",
      "source": [
        "# Load muon track data\n",
        "trackdata1 = pd.read_csv('https://raw.githubusercontent.com/QuarkNet-HEP/coding-camp/main/data/muon_track_3.csv', skiprows=2)\n",
        "# trackdata1.columns = ['X','Y']\n",
        "# trackdata1 = trackdata1.drop(labels=[0,1], axis=0)\n",
        "\n",
        "trackdata1.head()"
      ],
      "metadata": {
        "colab": {
          "base_uri": "https://localhost:8080/",
          "height": 206
        },
        "id": "9JAwW2vfnNk0",
        "outputId": "37b74905-8cbd-4364-cbeb-5ed3212b6525"
      },
      "execution_count": 2,
      "outputs": [
        {
          "output_type": "execute_result",
          "data": {
            "text/plain": [
              "          x         y\n",
              "0 -0.038012  0.025381\n",
              "1 -0.356492  0.223704\n",
              "2 -0.678912  0.412490\n",
              "3 -1.005210  0.591778\n",
              "4 -1.335360  0.761556"
            ],
            "text/html": [
              "\n",
              "  <div id=\"df-7fef6c4f-268d-4b29-af31-cdb04835ded6\" class=\"colab-df-container\">\n",
              "    <div>\n",
              "<style scoped>\n",
              "    .dataframe tbody tr th:only-of-type {\n",
              "        vertical-align: middle;\n",
              "    }\n",
              "\n",
              "    .dataframe tbody tr th {\n",
              "        vertical-align: top;\n",
              "    }\n",
              "\n",
              "    .dataframe thead th {\n",
              "        text-align: right;\n",
              "    }\n",
              "</style>\n",
              "<table border=\"1\" class=\"dataframe\">\n",
              "  <thead>\n",
              "    <tr style=\"text-align: right;\">\n",
              "      <th></th>\n",
              "      <th>x</th>\n",
              "      <th>y</th>\n",
              "    </tr>\n",
              "  </thead>\n",
              "  <tbody>\n",
              "    <tr>\n",
              "      <th>0</th>\n",
              "      <td>-0.038012</td>\n",
              "      <td>0.025381</td>\n",
              "    </tr>\n",
              "    <tr>\n",
              "      <th>1</th>\n",
              "      <td>-0.356492</td>\n",
              "      <td>0.223704</td>\n",
              "    </tr>\n",
              "    <tr>\n",
              "      <th>2</th>\n",
              "      <td>-0.678912</td>\n",
              "      <td>0.412490</td>\n",
              "    </tr>\n",
              "    <tr>\n",
              "      <th>3</th>\n",
              "      <td>-1.005210</td>\n",
              "      <td>0.591778</td>\n",
              "    </tr>\n",
              "    <tr>\n",
              "      <th>4</th>\n",
              "      <td>-1.335360</td>\n",
              "      <td>0.761556</td>\n",
              "    </tr>\n",
              "  </tbody>\n",
              "</table>\n",
              "</div>\n",
              "    <div class=\"colab-df-buttons\">\n",
              "\n",
              "  <div class=\"colab-df-container\">\n",
              "    <button class=\"colab-df-convert\" onclick=\"convertToInteractive('df-7fef6c4f-268d-4b29-af31-cdb04835ded6')\"\n",
              "            title=\"Convert this dataframe to an interactive table.\"\n",
              "            style=\"display:none;\">\n",
              "\n",
              "  <svg xmlns=\"http://www.w3.org/2000/svg\" height=\"24px\" viewBox=\"0 -960 960 960\">\n",
              "    <path d=\"M120-120v-720h720v720H120Zm60-500h600v-160H180v160Zm220 220h160v-160H400v160Zm0 220h160v-160H400v160ZM180-400h160v-160H180v160Zm440 0h160v-160H620v160ZM180-180h160v-160H180v160Zm440 0h160v-160H620v160Z\"/>\n",
              "  </svg>\n",
              "    </button>\n",
              "\n",
              "  <style>\n",
              "    .colab-df-container {\n",
              "      display:flex;\n",
              "      gap: 12px;\n",
              "    }\n",
              "\n",
              "    .colab-df-convert {\n",
              "      background-color: #E8F0FE;\n",
              "      border: none;\n",
              "      border-radius: 50%;\n",
              "      cursor: pointer;\n",
              "      display: none;\n",
              "      fill: #1967D2;\n",
              "      height: 32px;\n",
              "      padding: 0 0 0 0;\n",
              "      width: 32px;\n",
              "    }\n",
              "\n",
              "    .colab-df-convert:hover {\n",
              "      background-color: #E2EBFA;\n",
              "      box-shadow: 0px 1px 2px rgba(60, 64, 67, 0.3), 0px 1px 3px 1px rgba(60, 64, 67, 0.15);\n",
              "      fill: #174EA6;\n",
              "    }\n",
              "\n",
              "    .colab-df-buttons div {\n",
              "      margin-bottom: 4px;\n",
              "    }\n",
              "\n",
              "    [theme=dark] .colab-df-convert {\n",
              "      background-color: #3B4455;\n",
              "      fill: #D2E3FC;\n",
              "    }\n",
              "\n",
              "    [theme=dark] .colab-df-convert:hover {\n",
              "      background-color: #434B5C;\n",
              "      box-shadow: 0px 1px 3px 1px rgba(0, 0, 0, 0.15);\n",
              "      filter: drop-shadow(0px 1px 2px rgba(0, 0, 0, 0.3));\n",
              "      fill: #FFFFFF;\n",
              "    }\n",
              "  </style>\n",
              "\n",
              "    <script>\n",
              "      const buttonEl =\n",
              "        document.querySelector('#df-7fef6c4f-268d-4b29-af31-cdb04835ded6 button.colab-df-convert');\n",
              "      buttonEl.style.display =\n",
              "        google.colab.kernel.accessAllowed ? 'block' : 'none';\n",
              "\n",
              "      async function convertToInteractive(key) {\n",
              "        const element = document.querySelector('#df-7fef6c4f-268d-4b29-af31-cdb04835ded6');\n",
              "        const dataTable =\n",
              "          await google.colab.kernel.invokeFunction('convertToInteractive',\n",
              "                                                    [key], {});\n",
              "        if (!dataTable) return;\n",
              "\n",
              "        const docLinkHtml = 'Like what you see? Visit the ' +\n",
              "          '<a target=\"_blank\" href=https://colab.research.google.com/notebooks/data_table.ipynb>data table notebook</a>'\n",
              "          + ' to learn more about interactive tables.';\n",
              "        element.innerHTML = '';\n",
              "        dataTable['output_type'] = 'display_data';\n",
              "        await google.colab.output.renderOutput(dataTable, element);\n",
              "        const docLink = document.createElement('div');\n",
              "        docLink.innerHTML = docLinkHtml;\n",
              "        element.appendChild(docLink);\n",
              "      }\n",
              "    </script>\n",
              "  </div>\n",
              "\n",
              "\n",
              "<div id=\"df-aef59086-e048-48b6-a26d-f4c601039874\">\n",
              "  <button class=\"colab-df-quickchart\" onclick=\"quickchart('df-aef59086-e048-48b6-a26d-f4c601039874')\"\n",
              "            title=\"Suggest charts\"\n",
              "            style=\"display:none;\">\n",
              "\n",
              "<svg xmlns=\"http://www.w3.org/2000/svg\" height=\"24px\"viewBox=\"0 0 24 24\"\n",
              "     width=\"24px\">\n",
              "    <g>\n",
              "        <path d=\"M19 3H5c-1.1 0-2 .9-2 2v14c0 1.1.9 2 2 2h14c1.1 0 2-.9 2-2V5c0-1.1-.9-2-2-2zM9 17H7v-7h2v7zm4 0h-2V7h2v10zm4 0h-2v-4h2v4z\"/>\n",
              "    </g>\n",
              "</svg>\n",
              "  </button>\n",
              "\n",
              "<style>\n",
              "  .colab-df-quickchart {\n",
              "      --bg-color: #E8F0FE;\n",
              "      --fill-color: #1967D2;\n",
              "      --hover-bg-color: #E2EBFA;\n",
              "      --hover-fill-color: #174EA6;\n",
              "      --disabled-fill-color: #AAA;\n",
              "      --disabled-bg-color: #DDD;\n",
              "  }\n",
              "\n",
              "  [theme=dark] .colab-df-quickchart {\n",
              "      --bg-color: #3B4455;\n",
              "      --fill-color: #D2E3FC;\n",
              "      --hover-bg-color: #434B5C;\n",
              "      --hover-fill-color: #FFFFFF;\n",
              "      --disabled-bg-color: #3B4455;\n",
              "      --disabled-fill-color: #666;\n",
              "  }\n",
              "\n",
              "  .colab-df-quickchart {\n",
              "    background-color: var(--bg-color);\n",
              "    border: none;\n",
              "    border-radius: 50%;\n",
              "    cursor: pointer;\n",
              "    display: none;\n",
              "    fill: var(--fill-color);\n",
              "    height: 32px;\n",
              "    padding: 0;\n",
              "    width: 32px;\n",
              "  }\n",
              "\n",
              "  .colab-df-quickchart:hover {\n",
              "    background-color: var(--hover-bg-color);\n",
              "    box-shadow: 0 1px 2px rgba(60, 64, 67, 0.3), 0 1px 3px 1px rgba(60, 64, 67, 0.15);\n",
              "    fill: var(--button-hover-fill-color);\n",
              "  }\n",
              "\n",
              "  .colab-df-quickchart-complete:disabled,\n",
              "  .colab-df-quickchart-complete:disabled:hover {\n",
              "    background-color: var(--disabled-bg-color);\n",
              "    fill: var(--disabled-fill-color);\n",
              "    box-shadow: none;\n",
              "  }\n",
              "\n",
              "  .colab-df-spinner {\n",
              "    border: 2px solid var(--fill-color);\n",
              "    border-color: transparent;\n",
              "    border-bottom-color: var(--fill-color);\n",
              "    animation:\n",
              "      spin 1s steps(1) infinite;\n",
              "  }\n",
              "\n",
              "  @keyframes spin {\n",
              "    0% {\n",
              "      border-color: transparent;\n",
              "      border-bottom-color: var(--fill-color);\n",
              "      border-left-color: var(--fill-color);\n",
              "    }\n",
              "    20% {\n",
              "      border-color: transparent;\n",
              "      border-left-color: var(--fill-color);\n",
              "      border-top-color: var(--fill-color);\n",
              "    }\n",
              "    30% {\n",
              "      border-color: transparent;\n",
              "      border-left-color: var(--fill-color);\n",
              "      border-top-color: var(--fill-color);\n",
              "      border-right-color: var(--fill-color);\n",
              "    }\n",
              "    40% {\n",
              "      border-color: transparent;\n",
              "      border-right-color: var(--fill-color);\n",
              "      border-top-color: var(--fill-color);\n",
              "    }\n",
              "    60% {\n",
              "      border-color: transparent;\n",
              "      border-right-color: var(--fill-color);\n",
              "    }\n",
              "    80% {\n",
              "      border-color: transparent;\n",
              "      border-right-color: var(--fill-color);\n",
              "      border-bottom-color: var(--fill-color);\n",
              "    }\n",
              "    90% {\n",
              "      border-color: transparent;\n",
              "      border-bottom-color: var(--fill-color);\n",
              "    }\n",
              "  }\n",
              "</style>\n",
              "\n",
              "  <script>\n",
              "    async function quickchart(key) {\n",
              "      const quickchartButtonEl =\n",
              "        document.querySelector('#' + key + ' button');\n",
              "      quickchartButtonEl.disabled = true;  // To prevent multiple clicks.\n",
              "      quickchartButtonEl.classList.add('colab-df-spinner');\n",
              "      try {\n",
              "        const charts = await google.colab.kernel.invokeFunction(\n",
              "            'suggestCharts', [key], {});\n",
              "      } catch (error) {\n",
              "        console.error('Error during call to suggestCharts:', error);\n",
              "      }\n",
              "      quickchartButtonEl.classList.remove('colab-df-spinner');\n",
              "      quickchartButtonEl.classList.add('colab-df-quickchart-complete');\n",
              "    }\n",
              "    (() => {\n",
              "      let quickchartButtonEl =\n",
              "        document.querySelector('#df-aef59086-e048-48b6-a26d-f4c601039874 button');\n",
              "      quickchartButtonEl.style.display =\n",
              "        google.colab.kernel.accessAllowed ? 'block' : 'none';\n",
              "    })();\n",
              "  </script>\n",
              "</div>\n",
              "\n",
              "    </div>\n",
              "  </div>\n"
            ],
            "application/vnd.google.colaboratory.intrinsic+json": {
              "type": "dataframe",
              "variable_name": "trackdata1",
              "summary": "{\n  \"name\": \"trackdata1\",\n  \"rows\": 21,\n  \"fields\": [\n    {\n      \"column\": \"x\",\n      \"properties\": {\n        \"dtype\": \"number\",\n        \"std\": 2.145422844571102,\n        \"min\": -6.9012,\n        \"max\": -0.0380117,\n        \"num_unique_values\": 21,\n        \"samples\": [\n          -0.0380117,\n          -5.86019,\n          -5.16112\n        ],\n        \"semantic_type\": \"\",\n        \"description\": \"\"\n      }\n    },\n    {\n      \"column\": \"y\",\n      \"properties\": {\n        \"dtype\": \"number\",\n        \"std\": 0.8123432885936427,\n        \"min\": 0.0253806,\n        \"max\": 2.76817,\n        \"num_unique_values\": 21,\n        \"samples\": [\n          0.0253806,\n          2.38109,\n          2.13531\n        ],\n        \"semantic_type\": \"\",\n        \"description\": \"\"\n      }\n    }\n  ]\n}"
            }
          },
          "metadata": {},
          "execution_count": 2
        }
      ],
      "id": "9JAwW2vfnNk0"
    },
    {
      "cell_type": "code",
      "source": [
        "# Scatter plot the data\n",
        "plt.scatter(trackdata1['x'], trackdata1['y'])\n",
        "plt.title(\"Muon Track 3\")\n",
        "plt.xlabel(\"X (m)\")\n",
        "plt.ylabel(\"Y (m)\")\n",
        "plt.grid(False);"
      ],
      "metadata": {
        "colab": {
          "base_uri": "https://localhost:8080/",
          "height": 472
        },
        "id": "HrJ4d9CBpN_u",
        "outputId": "9ebfef59-aef4-42b9-f55f-6ea2cbf5943c"
      },
      "execution_count": 3,
      "outputs": [
        {
          "output_type": "display_data",
          "data": {
            "text/plain": [
              "<Figure size 640x480 with 1 Axes>"
            ],
            "image/png": "[encoded data removed]"
          },
          "metadata": {}
        }
      ],
      "id": "HrJ4d9CBpN_u"
    },
    {
      "cell_type": "code",
      "source": [
        "# Define the linear model function\n",
        "def my_model(x, m, b):   # first argument (x) is input data, scipy will optimize m & b to fit\n",
        "    y = m * x + b\n",
        "    return(y)"
      ],
      "metadata": {
        "id": "TGz2S4rur7uy"
      },
      "execution_count": 4,
      "outputs": [],
      "id": "TGz2S4rur7uy"
    },
    {
      "cell_type": "markdown",
      "source": [
        "Then, Scipy's curve_fit will fit the model function to our data.\n"
      ],
      "metadata": {
        "id": "07lhtMC4sGX5"
      },
      "id": "07lhtMC4sGX5"
    },
    {
      "cell_type": "code",
      "source": [
        "# Scipy's curve_fit takes the arguments (model function, x-values, y-values)\n",
        "popt, pcov = curve_fit(my_model, trackdata1['x'], trackdata1['y'])\n",
        "\n",
        "# popt and pcov are some properties of the curve fit we'll use next.\n",
        "popt   # optimized coeeficients, in the order they appear in the model function"
      ],
      "metadata": {
        "colab": {
          "base_uri": "https://localhost:8080/"
        },
        "id": "JLU34LhAsDxw",
        "outputId": "8892132e-9135-410f-bab7-67467d599f50"
      },
      "execution_count": 5,
      "outputs": [
        {
          "output_type": "execute_result",
          "data": {
            "text/plain": [
              "array([-0.37676745,  0.2171651 ])"
            ]
          },
          "metadata": {},
          "execution_count": 5
        }
      ],
      "id": "JLU34LhAsDxw"
    },
    {
      "cell_type": "markdown",
      "source": [
        "The model function's optimized coefficients above are probably close to 2 and 1. Recall the original data looked like y=2x+1 (plus some random jitter). popt is an array and you can access just one of the array's elements (your optimized coefficients) like this:"
      ],
      "metadata": {
        "id": "HBZDFfO9sV3A"
      },
      "id": "HBZDFfO9sV3A"
    },
    {
      "cell_type": "code",
      "source": [
        "# the first element in the array \"popt\". That's the first coefficient.\n",
        "popt[0]"
      ],
      "metadata": {
        "outputId": "2bce63e3-2112-4a67-dcfe-ae675dfc2a79",
        "colab": {
          "base_uri": "https://localhost:8080/"
        },
        "id": "97TuL2qbvA5b"
      },
      "execution_count": 6,
      "outputs": [
        {
          "output_type": "execute_result",
          "data": {
            "text/plain": [
              "-0.37676744939957596"
            ]
          },
          "metadata": {},
          "execution_count": 6
        }
      ],
      "id": "97TuL2qbvA5b"
    },
    {
      "cell_type": "code",
      "source": [
        "# plotting the original data and the optimized model (i.e., trendline)\n",
        "plt.scatter(trackdata1['x'], trackdata1['y'], label=\"Track Data 1\", color='g')\n",
        "plt.plot(trackdata1['x'], my_model(trackdata1['x'], popt[0], popt[1]), label=\"model fit\", color='orange')\n",
        "plt.legend()\n",
        "plt.show()"
      ],
      "metadata": {
        "outputId": "4b461a68-c0e4-4901-ad13-2e4c24e48071",
        "colab": {
          "base_uri": "https://localhost:8080/",
          "height": 430
        },
        "id": "imuq5fIMvA5b"
      },
      "execution_count": 8,
      "outputs": [
        {
          "output_type": "display_data",
          "data": {
            "text/plain": [
              "<Figure size 640x480 with 1 Axes>"
            ],
            "image/png": "[encoded data removed]"
          },
          "metadata": {}
        }
      ],
      "id": "imuq5fIMvA5b"
    },
    {
      "cell_type": "markdown",
      "source": [
        "# fit another function that might give better physics insight"
      ],
      "metadata": {
        "id": "cF0XTFHAjVQ2"
      },
      "id": "cF0XTFHAjVQ2"
    },
    {
      "cell_type": "code",
      "source": [
        "def my_model2(x, m, b):   # first argument (x) is input data, scipy will optimize m & b to fit\n",
        "    y = m * x**2 + b\n",
        "    return(y)"
      ],
      "metadata": {
        "id": "lNkMbK4nvA5X"
      },
      "execution_count": 9,
      "outputs": [],
      "id": "lNkMbK4nvA5X"
    },
    {
      "cell_type": "markdown",
      "source": [
        "Then, Scipy's curve_fit will fit the model function to our data.\n"
      ],
      "metadata": {
        "id": "0fUzgLqQjS52"
      },
      "id": "0fUzgLqQjS52"
    },
    {
      "cell_type": "code",
      "source": [
        "# Scipy's curve_fit takes the arguments (model function, x-values, y-values)\n",
        "popt, pcov = curve_fit(my_model2, trackdata1['x'], trackdata1['y'])\n",
        "\n",
        "# popt and pcov are some properties of the curve fit we'll use next.\n",
        "popt   # optimized coeeficients, in the order they appear in the model function"
      ],
      "metadata": {
        "colab": {
          "base_uri": "https://localhost:8080/"
        },
        "outputId": "86d762a3-d793-4926-ec64-261871bf16bb",
        "id": "Nw73OseAjhqa"
      },
      "execution_count": 10,
      "outputs": [
        {
          "output_type": "execute_result",
          "data": {
            "text/plain": [
              "array([0.04980239, 0.70502695])"
            ]
          },
          "metadata": {},
          "execution_count": 10
        }
      ],
      "id": "Nw73OseAjhqa"
    },
    {
      "cell_type": "code",
      "source": [
        "# the first element in the array \"popt\". That's the first coefficient.\n",
        "popt[0]"
      ],
      "metadata": {
        "outputId": "eb1aaadb-6f44-4d56-d9ae-4649eaac6adb",
        "colab": {
          "base_uri": "https://localhost:8080/"
        },
        "id": "I-Wev4EakAPB"
      },
      "execution_count": 11,
      "outputs": [
        {
          "output_type": "execute_result",
          "data": {
            "text/plain": [
              "0.04980238921239974"
            ]
          },
          "metadata": {},
          "execution_count": 11
        }
      ],
      "id": "I-Wev4EakAPB"
    },
    {
      "cell_type": "code",
      "execution_count": 12,
      "metadata": {
        "colab": {
          "base_uri": "https://localhost:8080/",
          "height": 453
        },
        "id": "tVei93lzqW0L",
        "outputId": "9fcd5663-0e1c-4dd7-d744-adefce3861f9"
      },
      "outputs": [
        {
          "output_type": "display_data",
          "data": {
            "text/plain": [
              "<Figure size 640x480 with 1 Axes>"
            ],
            "image/png": "[encoded data removed]"
          },
          "metadata": {}
        }
      ],
      "source": [
        "# Now we can fit the data to a polynominal fit\n",
        "a, b, c = np.polyfit(trackdata1['x'], trackdata1['y'], deg=2)\n",
        "\n",
        "# Notice we change the 'y' values to be the polynominal equation\n",
        "plt.plot(trackdata1['x'], a*trackdata1['x']**2 + b*trackdata1['x'] + c, linewidth=3, color=\"orange\")\n",
        "plt.scatter(trackdata1['x'], trackdata1['y'], label=\"Track Data 1\", color='g')\n",
        "\n",
        "# Here we're putting the equation in the title\n",
        "# but you know how to have this in the legend or as text too.\n",
        "plt.title(f'y = {a:.2f}x^2 + {b:.2f}x + {c:.2f}', size=14)\n",
        "plt.show()"
      ],
      "id": "tVei93lzqW0L"
    },
    {
      "cell_type": "code",
      "source": [
        "def my_model3(x, a, b, c, d):\n",
        "  y = a*x**3 + b*x**2 + c*x + d\n",
        "  return y"
      ],
      "metadata": {
        "id": "IZVMJWF4gDYY"
      },
      "id": "IZVMJWF4gDYY",
      "execution_count": 22,
      "outputs": []
    },
    {
      "cell_type": "code",
      "source": [
        "popt, pcov = curve_fit(my_model3, trackdata1['x'], trackdata1['y'])"
      ],
      "metadata": {
        "id": "mrH9pCCihcbo"
      },
      "id": "mrH9pCCihcbo",
      "execution_count": 23,
      "outputs": []
    },
    {
      "cell_type": "code",
      "execution_count": 24,
      "metadata": {
        "colab": {
          "base_uri": "https://localhost:8080/",
          "height": 453
        },
        "outputId": "b2d3d1ca-a4fc-4903-abd3-5a794946b561",
        "id": "iu5GcFgUe-uY"
      },
      "outputs": [
        {
          "output_type": "display_data",
          "data": {
            "text/plain": [
              "<Figure size 640x480 with 1 Axes>"
            ],
            "image/png": "[encoded data removed]"
          },
          "metadata": {}
        }
      ],
      "source": [
        "# Now we can fit the data to cubic fit\n",
        "a, b, c, d = np.polyfit(trackdata1['x'], trackdata1['y'], deg=3)\n",
        "\n",
        "# Notice we change the 'y' values to be the polynominal equation\n",
        "plt.plot(trackdata1['x'], a*trackdata1['x']**3 + b*trackdata1['x']**2 + c*trackdata1['x'] + d, linewidth=3, color=\"orange\")\n",
        "plt.scatter(trackdata1['x'], trackdata1['y'], label=\"Track Data 1\", color='g')\n",
        "\n",
        "# Here we're putting the equation in the title\n",
        "# but you know how to have this in the legend or as text too.\n",
        "plt.title(f'y = {a:.2f}x^3 + {b:.2f}x^2 + {c:.2f}x + {d:.2f}', size=14)\n",
        "plt.show()"
      ],
      "id": "iu5GcFgUe-uY"
    },
    {
      "cell_type": "markdown",
      "source": [
        "# compare the two models using chi-sq or residual sum of squares (RSS)"
      ],
      "metadata": {
        "id": "D2fLTeRpVM3U"
      },
      "id": "D2fLTeRpVM3U"
    },
    {
      "cell_type": "code",
      "source": [
        "# Define functions for comparison and analysis\n",
        "def chi_sq(obs, exp, error):\n",
        "    return np.sum(((obs - exp) / error)**2)\n",
        "\n",
        "def rss(obs, exp):\n",
        "    return np.sum((obs - exp)**2)"
      ],
      "metadata": {
        "id": "QUUCkLAWUoQ-"
      },
      "id": "QUUCkLAWUoQ-",
      "execution_count": 25,
      "outputs": []
    },
    {
      "cell_type": "code",
      "source": [
        "# Calculate expected values using my_model\n",
        "exp_model1 = my_model(trackdata1['x'], popt[0], popt[1])\n",
        "\n",
        "# Calculate expected values using my_model2\n",
        "exp_model2 = my_model2(trackdata1['x'], popt[0], popt[1])\n",
        "\n",
        "# Calculate expected values using my_model2\n",
        "exp_model3 = my_model3(trackdata1['x'], popt[0], popt[1], popt[2], popt[3])"
      ],
      "metadata": {
        "id": "hHNc84c8Usvu"
      },
      "id": "hHNc84c8Usvu",
      "execution_count": 26,
      "outputs": []
    },
    {
      "cell_type": "code",
      "source": [
        "# Assume an error of 0.1 for all observations\n",
        "error = 0.1\n",
        "\n",
        "# Calculate chi-squared for each model\n",
        "chi_sq_model1 = chi_sq(trackdata1['y'], exp_model1, error)\n",
        "chi_sq_model2 = chi_sq(trackdata1['y'], exp_model2, error)\n",
        "chi_sq_model3 = chi_sq(trackdata1['y'], exp_model3, error)\n",
        "print(\"Chi-square for linear model:\", chi_sq_model1)\n",
        "print(\"Chi-square for quadratic model:\", chi_sq_model2)\n",
        "print(\"Chi-square for cubic model:\", chi_sq_model3)\n",
        "\n",
        "# Calculate RSS for each model\n",
        "rss_model1 = rss(trackdata1['y'], exp_model1)\n",
        "rss_model2 = rss(trackdata1['y'], exp_model2)\n",
        "rss_model3 = rss(trackdata1['y'], exp_model3)\n",
        "print(\"RSS for linear model:\", rss_model1)\n",
        "print(\"RSS for quadratic model:\", rss_model2)\n",
        "print(\"RSS for cubic model:\", rss_model3)"
      ],
      "metadata": {
        "colab": {
          "base_uri": "https://localhost:8080/"
        },
        "id": "Hly4f-kJU4_f",
        "outputId": "c48b57ac-bcf9-42e3-f48d-e02cb24de1a8"
      },
      "id": "Hly4f-kJU4_f",
      "execution_count": 27,
      "outputs": [
        {
          "output_type": "stream",
          "name": "stdout",
          "text": [
            "Chi-square for linear model: 6442.6025345366415\n",
            "Chi-square for quadratic model: 7664.660854219833\n",
            "Chi-square for cubic model: 0.10630697795311472\n",
            "RSS for linear model: 64.42602534536641\n",
            "RSS for quadratic model: 76.64660854219834\n",
            "RSS for cubic model: 0.0010630697795311471\n"
          ]
        }
      ]
    },
    {
      "cell_type": "code",
      "execution_count": null,
      "id": "44a46944",
      "metadata": {
        "id": "44a46944"
      },
      "outputs": [],
      "source": [
        "# perform analysis in both a spreadsheet and a Jupyter notebook"
      ]
    },
    {
      "cell_type": "code",
      "execution_count": null,
      "id": "c2f8c195",
      "metadata": {
        "id": "c2f8c195"
      },
      "outputs": [],
      "source": [
        "# present using PPDAC framework"
      ]
    }
  ],
  "metadata": {
    "kernelspec": {
      "display_name": "Python 3 (ipykernel)",
      "language": "python",
      "name": "python3"
    },
    "language_info": {
      "codemirror_mode": {
        "name": "ipython",
        "version": 3
      },
      "file_extension": ".py",
      "mimetype": "text/x-python",
      "name": "python",
      "nbconvert_exporter": "python",
      "pygments_lexer": "ipython3",
      "version": "3.9.7"
    },
    "colab": {
      "provenance": [],
      "include_colab_link": true
    }
  },
  "nbformat": 4,
  "nbformat_minor": 5
}